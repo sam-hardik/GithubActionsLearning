{
 "cells": [
  {
   "cell_type": "code",
   "execution_count": 1,
   "id": "3746ce65",
   "metadata": {},
   "outputs": [
    {
     "name": "stdout",
     "output_type": "stream",
     "text": [
      "Hello World through GitActions\n"
     ]
    }
   ],
   "source": [
    "print(\"Hello World through GitActions\")"
   ]
  },
  {
   "cell_type": "code",
   "execution_count": null,
   "id": "92f4291e",
   "metadata": {},
   "outputs": [],
   "source": [
    "import sys\n",
    "from awsglue.transforms import *\n",
    "from awsglue.utils import getResolvedOptions\n",
    "from pyspark.context import SparkContext\n",
    "from awsglue.context import GlueContext\n",
    "from awsglue.job import Job\n",
    "import re\n",
    "\n",
    "args = getResolvedOptions(sys.argv, [\"JOB_NAME\"])\n",
    "sc = SparkContext()\n",
    "glueContext = GlueContext(sc)\n",
    "spark = glueContext.spark_session\n",
    "job = Job(glueContext)\n",
    "job.init(args[\"JOB_NAME\"], args)\n",
    "\n",
    "# Script generated for node Amazon S3\n",
    "AmazonS3_node1681391985385 = glueContext.create_dynamic_frame.from_options(\n",
    "    format_options={\"quoteChar\": '\"', \"withHeader\": True, \"separator\": \",\"},\n",
    "    connection_type=\"s3\",\n",
    "    format=\"csv\",\n",
    "    connection_options={\n",
    "        \"paths\": [\"s3://gitactiontestbucket/sample_source/\"],\n",
    "        \"recurse\": True,\n",
    "    },\n",
    "    transformation_ctx=\"AmazonS3_node1681391985385\",\n",
    ")\n",
    "\n",
    "# Script generated for node Filter\n",
    "Filter_node1681392346031 = Filter.apply(\n",
    "    frame=AmazonS3_node1681391985385,\n",
    "    f=lambda row: (bool(re.match(\"F\", row[\"STATUS\"]))),\n",
    "    transformation_ctx=\"Filter_node1681392346031\",\n",
    ")\n",
    "\n",
    "# Script generated for node Amazon S3\n",
    "AmazonS3_node1681392531850 = glueContext.getSink(\n",
    "    path=\"s3://gitactiontestbucket/sample_target/\",\n",
    "    connection_type=\"s3\",\n",
    "    updateBehavior=\"UPDATE_IN_DATABASE\",\n",
    "    partitionKeys=[],\n",
    "    enableUpdateCatalog=True,\n",
    "    transformation_ctx=\"AmazonS3_node1681392531850\",\n",
    ")\n",
    "AmazonS3_node1681392531850.setCatalogInfo(\n",
    "    catalogDatabase=\"demodb\", catalogTableName=\"sample_source\"\n",
    ")\n",
    "AmazonS3_node1681392531850.setFormat(\"glueparquet\")\n",
    "AmazonS3_node1681392531850.writeFrame(Filter_node1681392346031)\n",
    "job.commit()\n"
   ]
  }
 ],
 "metadata": {
  "kernelspec": {
   "display_name": "Python 3 (ipykernel)",
   "language": "python",
   "name": "python3"
  },
  "language_info": {
   "codemirror_mode": {
    "name": "ipython",
    "version": 3
   },
   "file_extension": ".py",
   "mimetype": "text/x-python",
   "name": "python",
   "nbconvert_exporter": "python",
   "pygments_lexer": "ipython3",
   "version": "3.10.6"
  }
 },
 "nbformat": 4,
 "nbformat_minor": 5
}
